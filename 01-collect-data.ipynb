{
 "cells": [
  {
   "cell_type": "markdown",
   "metadata": {},
   "source": [
    "# Collect Data\n",
    "A primeira etapa para o desenvolvimento do projeto é a coleta de dados. Os dados estão armazenados em tabelas distintas no BigQuery, e para obte-los será necessário realizar ela série de operações em SQL para manipular os dados e extrair as métricas dos e-mails enviados."
   ]
  },
  {
   "cell_type": "markdown",
   "metadata": {},
   "source": [
    "## Imports\n",
    "Bibliotecas e ferramentas necessárias para o desenvolvimento dessa etapa."
   ]
  },
  {
   "cell_type": "code",
   "execution_count": 1,
   "metadata": {},
   "outputs": [],
   "source": [
    "import pandas as pd\n",
    "from google.oauth2.credentials import Credentials\n",
    "from google.cloud import bigquery\n",
    "import os\n",
    "\n",
    "GCP_CREDENTIALS       = os.getenv('GCP_CREDENTIALS', \"keys.json\")\n",
    "PROJECT_ID            = os.getenv('PROJECT_ID', \"etus-media-data-staging\")"
   ]
  },
  {
   "cell_type": "markdown",
   "metadata": {},
   "source": [
    "## Authentication\n",
    "Autenticação para acessar os dados do BigQuery."
   ]
  },
  {
   "cell_type": "code",
   "execution_count": 2,
   "metadata": {},
   "outputs": [],
   "source": [
    "creds = Credentials.from_authorized_user_file(GCP_CREDENTIALS)\n",
    "client = bigquery.Client(PROJECT_ID, credentials=creds)"
   ]
  },
  {
   "cell_type": "markdown",
   "metadata": {},
   "source": [
    "## Extract Data\n",
    "Coletar dados no BigQuery e salvar localmente."
   ]
  },
  {
   "cell_type": "code",
   "execution_count": 1,
   "metadata": {},
   "outputs": [],
   "source": [
    "with open('./query/query.sql', 'r') as file:\n",
    "    query = file.read()\n",
    "\n",
    "df = client.query(query).result().to_dataframe()\n",
    "df.to_csv('./data/raw_data.csv', index=False)"
   ]
  }
 ],
 "metadata": {
  "kernelspec": {
   "display_name": "Python 3",
   "language": "python",
   "name": "python3"
  },
  "language_info": {
   "codemirror_mode": {
    "name": "ipython",
    "version": 3
   },
   "file_extension": ".py",
   "mimetype": "text/x-python",
   "name": "python",
   "nbconvert_exporter": "python",
   "pygments_lexer": "ipython3",
   "version": "3.10.6"
  }
 },
 "nbformat": 4,
 "nbformat_minor": 2
}
