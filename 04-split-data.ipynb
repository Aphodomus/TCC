{
 "cells": [
  {
   "cell_type": "markdown",
   "metadata": {},
   "source": [
    "# Split Data into Train and Test\n",
    "Separar os dados, em um conjunto de treino e outro para teste."
   ]
  },
  {
   "cell_type": "markdown",
   "metadata": {},
   "source": [
    "## Imports"
   ]
  },
  {
   "cell_type": "code",
   "execution_count": null,
   "metadata": {},
   "outputs": [],
   "source": [
    "import pandas as pd\n",
    "from sklearn.model_selection import train_test_split\n",
    "import json"
   ]
  },
  {
   "cell_type": "markdown",
   "metadata": {},
   "source": [
    "## Read Data and Split"
   ]
  },
  {
   "cell_type": "code",
   "execution_count": null,
   "metadata": {},
   "outputs": [],
   "source": [
    "def split_and_save_dataset(\n",
    "        file_path,\n",
    "        test_size=0.2,\n",
    "        val_size=0.1,\n",
    "        random_state=None, \n",
    "        train_file_path='./data/train.csv', \n",
    "        test_file_path='./data/test.csv',\n",
    "        val_file_path='./data/val.csv'\n",
    "    ):\n",
    "    \n",
    "    df = pd.read_csv(file_path)\n",
    "    \n",
    "    df['EMBEDDING_TFIDF'] = df['EMBEDDING_TFIDF'].astype(str)\n",
    "    df['EMBEDDING_WORD2VEC'] = df['EMBEDDING_WORD2VEC'].astype(str)\n",
    "    df['EMBEDDING_OPENAI'] = df['EMBEDDING_OPENAI'].astype(str)\n",
    "    \n",
    "    train_df, test_df = train_test_split(df, test_size=test_size, random_state=random_state)\n",
    "    train_df, val_df = train_test_split(train_df, test_size=val_size, random_state=random_state)\n",
    "    \n",
    "    train_df.to_csv(train_file_path, index=False)\n",
    "    test_df.to_csv(test_file_path, index=False)\n",
    "    val_df.to_csv(val_file_path, index=False)\n",
    "    \n",
    "    print(f\"Conjunto de treino salvo em '{train_file_path}'\")\n",
    "    print(f\"Conjunto de teste salvo em '{test_file_path}'\")\n",
    "    print(f\"Conjunto de validação salvo em '{val_file_path}'\")\n",
    "\n",
    "file_path = './data/data_preprocessed_embeddings.csv'\n",
    "\n",
    "split_and_save_dataset(file_path, test_size=0.20, val_size=0.10, random_state=42)"
   ]
  },
  {
   "cell_type": "markdown",
   "metadata": {},
   "source": [
    "## Train Data"
   ]
  },
  {
   "cell_type": "code",
   "execution_count": null,
   "metadata": {},
   "outputs": [],
   "source": [
    "train = pd.read_csv('./data/train.csv')\n",
    "train"
   ]
  },
  {
   "cell_type": "markdown",
   "metadata": {},
   "source": [
    "## Test Data"
   ]
  },
  {
   "cell_type": "code",
   "execution_count": null,
   "metadata": {},
   "outputs": [],
   "source": [
    "test = pd.read_csv('./data/test.csv')\n",
    "test"
   ]
  }
 ],
 "metadata": {
  "kernelspec": {
   "display_name": "Python 3",
   "language": "python",
   "name": "python3"
  },
  "language_info": {
   "codemirror_mode": {
    "name": "ipython",
    "version": 3
   },
   "file_extension": ".py",
   "mimetype": "text/x-python",
   "name": "python",
   "nbconvert_exporter": "python",
   "pygments_lexer": "ipython3",
   "version": "3.10.6"
  }
 },
 "nbformat": 4,
 "nbformat_minor": 2
}
